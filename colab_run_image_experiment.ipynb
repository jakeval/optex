{
 "cells": [
  {
   "cell_type": "code",
   "execution_count": null,
   "metadata": {},
   "outputs": [],
   "source": [
    "%load_ext autoreload\n",
    "%autoreload 2\n",
    "\n",
    "import os\n",
    "import shutil\n",
    "if os.path.exists('/content/optex'):\n",
    "  shutil.rmtree('/content/optex/')\n",
    "\n",
    "!git clone https://github.com/jakeval/optex.git\n",
    "!cd optex && git checkout messy_merging\n",
    "\n",
    "!pip install pyspark\n",
    "!pip install deeplake\n",
    "!pip install pyvis\n",
    "\n",
    "\n",
    "%cd optex\n",
    "!pwd"
   ]
  },
  {
   "cell_type": "code",
   "execution_count": null,
   "metadata": {},
   "outputs": [],
   "source": [
    "import run_image_experiment"
   ]
  },
  {
   "cell_type": "code",
   "execution_count": null,
   "metadata": {},
   "outputs": [],
   "source": [
    "run_image_experiment.main()"
   ]
  }
 ],
 "metadata": {
  "language_info": {
   "name": "python"
  },
  "orig_nbformat": 4
 },
 "nbformat": 4,
 "nbformat_minor": 2
}
