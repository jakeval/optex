{
 "cells": [
  {
   "cell_type": "code",
   "execution_count": 1,
   "metadata": {},
   "outputs": [
    {
     "name": "stderr",
     "output_type": "stream",
     "text": [
      "/home/jakeval/.local/pipx/venvs/notebook/lib/python3.8/site-packages/tqdm/auto.py:22: TqdmWarning: IProgress not found. Please update jupyter and ipywidgets. See https://ipywidgets.readthedocs.io/en/stable/user_install.html\n",
      "  from .autonotebook import tqdm as notebook_tqdm\n"
     ]
    }
   ],
   "source": [
    "import sys\n",
    "sys.path.append('..')\n",
    "from core import computation_graph\n",
    "from core import graph_merge\n",
    "from visualize_graph import network_graph\n",
    "from image_utilities import load_images\n",
    "\n",
    "import run_image_experiment\n",
    "\n",
    "%load_ext autoreload\n",
    "%autoreload 2"
   ]
  },
  {
   "cell_type": "markdown",
   "metadata": {},
   "source": [
    "## This single graph has redundant computation"
   ]
  },
  {
   "cell_type": "code",
   "execution_count": 309,
   "metadata": {},
   "outputs": [],
   "source": [
    "@computation_graph.optex_process('return')\n",
    "def transform(x):\n",
    "    return x\n",
    "\n",
    "@computation_graph.optex_process('return')\n",
    "def combine(x, y, z):\n",
    "    return x + y + z\n",
    "\n",
    "@computation_graph.optex_composition('return')\n",
    "def pipeline1(x):\n",
    "    x.name = \"input\"\n",
    "    t1 = transform(x)\n",
    "    t1.name = \"transform_1\"\n",
    "    t2 = transform(x)\n",
    "    t2.name = \"transform_2\"\n",
    "    t3 = transform(x)\n",
    "    t3.name = \"transform_3\"\n",
    "    c = combine(t1, t2, t3)\n",
    "    c.name = 'output'\n",
    "    return c"
   ]
  },
  {
   "cell_type": "markdown",
   "metadata": {},
   "source": [
    "The same `transform` function is called multiple times with the same `input` argument."
   ]
  },
  {
   "cell_type": "code",
   "execution_count": 310,
   "metadata": {
    "scrolled": false
   },
   "outputs": [
    {
     "name": "stdout",
     "output_type": "stream",
     "text": [
      "Local cdn resources have problems on chrome/safari when used in jupyter-notebook. \n"
     ]
    },
    {
     "data": {
      "text/html": [
       "\n",
       "        <iframe\n",
       "            width=\"100%\"\n",
       "            height=\"600px\"\n",
       "            src=\"test.html\"\n",
       "            frameborder=\"0\"\n",
       "            allowfullscreen\n",
       "            \n",
       "        ></iframe>\n",
       "        "
      ],
      "text/plain": [
       "<IPython.lib.display.IFrame at 0x7f057e4244f0>"
      ]
     },
     "execution_count": 310,
     "metadata": {},
     "output_type": "execute_result"
    }
   ],
   "source": [
    "graph = graph_merge.make_expanded_graph_copy(computation_graph.generate_static_graph(pipeline1, 'graph1'))\n",
    "network_graph.Network_Graph(graph, notebook=True).pyvis_graph.show('test.html')"
   ]
  },
  {
   "cell_type": "markdown",
   "metadata": {},
   "source": [
    "## We can merge the graph with itself\n",
    "\n",
    "This eliminates the redundant computation"
   ]
  },
  {
   "cell_type": "code",
   "execution_count": 311,
   "metadata": {
    "scrolled": false
   },
   "outputs": [
    {
     "name": "stdout",
     "output_type": "stream",
     "text": [
      "Local cdn resources have problems on chrome/safari when used in jupyter-notebook. \n"
     ]
    },
    {
     "data": {
      "text/html": [
       "\n",
       "        <iframe\n",
       "            width=\"100%\"\n",
       "            height=\"600px\"\n",
       "            src=\"test.html\"\n",
       "            frameborder=\"0\"\n",
       "            allowfullscreen\n",
       "            \n",
       "        ></iframe>\n",
       "        "
      ],
      "text/plain": [
       "<IPython.lib.display.IFrame at 0x7f057e3a0a30>"
      ]
     },
     "execution_count": 311,
     "metadata": {},
     "output_type": "execute_result"
    }
   ],
   "source": [
    "inputs = {\n",
    "    computation_graph.Artifact(10): {\n",
    "        graph.name: [graph.inputs[0]]\n",
    "    }\n",
    "}\n",
    "\n",
    "merged_graph, merged_inputs, merged_outputs = graph_merge.merge_graphs([graph], inputs, \"merged\")\n",
    "network_graph.Network_Graph(merged_graph, notebook=True).pyvis_graph.show('test.html')"
   ]
  },
  {
   "cell_type": "markdown",
   "metadata": {},
   "source": [
    "Note that the edges from `transform_3` to `combine` are maintained in the graph structure, but aren't represented in the graph visualization."
   ]
  },
  {
   "cell_type": "code",
   "execution_count": 288,
   "metadata": {},
   "outputs": [
    {
     "name": "stdout",
     "output_type": "stream",
     "text": [
      "artifact\n",
      "==>\n",
      "transform\n",
      "==>\n",
      "transform_3\n",
      "==>\n",
      "['z=combine', 'y=combine', 'x=combine']\n"
     ]
    }
   ],
   "source": [
    "print(merged_inputs['all_inputs'][0].name)\n",
    "print(\"==>\")\n",
    "print(merged_inputs['all_inputs'][0].children[0].name)\n",
    "print(\"==>\")\n",
    "print(merged_inputs['all_inputs'][0].children[0].children[0].name)\n",
    "print(\"==>\")\n",
    "\n",
    "merged_transform = merged_inputs['all_inputs'][0].children[0].children[0]\n",
    "\n",
    "print([f'{role}={child.name}' for role, child in zip(merged_transform.children_roles, merged_transform.children)])"
   ]
  },
  {
   "cell_type": "markdown",
   "metadata": {},
   "source": [
    "## We can also merge multiple graphs\n",
    "\n",
    "Although graph1 and graph2 are identical, they were defined as different graphs"
   ]
  },
  {
   "cell_type": "code",
   "execution_count": 289,
   "metadata": {},
   "outputs": [
    {
     "name": "stdout",
     "output_type": "stream",
     "text": [
      "Local cdn resources have problems on chrome/safari when used in jupyter-notebook. \n"
     ]
    },
    {
     "data": {
      "text/html": [
       "\n",
       "        <iframe\n",
       "            width=\"100%\"\n",
       "            height=\"600px\"\n",
       "            src=\"test.html\"\n",
       "            frameborder=\"0\"\n",
       "            allowfullscreen\n",
       "            \n",
       "        ></iframe>\n",
       "        "
      ],
      "text/plain": [
       "<IPython.lib.display.IFrame at 0x7f057e5b7820>"
      ]
     },
     "execution_count": 289,
     "metadata": {},
     "output_type": "execute_result"
    }
   ],
   "source": [
    "@computation_graph.optex_process('output')\n",
    "def dual_arg(arg1, arg2):\n",
    "    return arg1*10 + arg2\n",
    "\n",
    "\n",
    "graph1 = graph_merge.make_expanded_graph_copy(computation_graph.generate_static_graph(dual_arg, \"graph1\"))\n",
    "graph2 = graph_merge.make_expanded_graph_copy(computation_graph.generate_static_graph(dual_arg, \"graph2\"))\n",
    "\n",
    "unmerged_graph = computation_graph.EdgeGraph.from_output_artifacts(graph1.outputs + graph2.outputs, name='unmerged_graph')\n",
    "network_graph.Network_Graph(unmerged_graph, notebook=True).pyvis_graph.show('test.html')"
   ]
  },
  {
   "cell_type": "code",
   "execution_count": 312,
   "metadata": {
    "scrolled": false
   },
   "outputs": [
    {
     "name": "stdout",
     "output_type": "stream",
     "text": [
      "Local cdn resources have problems on chrome/safari when used in jupyter-notebook. \n"
     ]
    },
    {
     "data": {
      "text/html": [
       "\n",
       "        <iframe\n",
       "            width=\"100%\"\n",
       "            height=\"600px\"\n",
       "            src=\"test.html\"\n",
       "            frameborder=\"0\"\n",
       "            allowfullscreen\n",
       "            \n",
       "        ></iframe>\n",
       "        "
      ],
      "text/plain": [
       "<IPython.lib.display.IFrame at 0x7f057e3a01c0>"
      ]
     },
     "execution_count": 312,
     "metadata": {},
     "output_type": "execute_result"
    }
   ],
   "source": [
    "graph1 = graph_merge.make_expanded_graph_copy(computation_graph.generate_static_graph(dual_arg, \"graph1\"))\n",
    "graph2 = graph_merge.make_expanded_graph_copy(computation_graph.generate_static_graph(dual_arg, \"graph2\"))\n",
    "\n",
    "arg1 = computation_graph.Artifact(10)\n",
    "arg2 = computation_graph.Artifact(20)\n",
    "inputs = graph_merge.get_inputs([\n",
    "    (graph1, dual_arg, 'arg1', arg1),\n",
    "    (graph1, dual_arg, 'arg2', arg2),\n",
    "    (graph2, dual_arg, 'arg1', arg1),\n",
    "    (graph2, dual_arg, 'arg2', arg2)])\n",
    "\n",
    "\n",
    "merged_graph, merged_inputs, merged_outputs = graph_merge.merge_graphs([graph1, graph2], inputs, \"merged\")\n",
    "network_graph.Network_Graph(merged_graph, notebook=True).pyvis_graph.show('test.html')"
   ]
  },
  {
   "cell_type": "markdown",
   "metadata": {},
   "source": [
    "If the arguments are mismatched so their roles don't align, the graphs can't be merged."
   ]
  },
  {
   "cell_type": "code",
   "execution_count": 313,
   "metadata": {
    "scrolled": false
   },
   "outputs": [
    {
     "name": "stdout",
     "output_type": "stream",
     "text": [
      "Local cdn resources have problems on chrome/safari when used in jupyter-notebook. \n"
     ]
    },
    {
     "data": {
      "text/html": [
       "\n",
       "        <iframe\n",
       "            width=\"100%\"\n",
       "            height=\"600px\"\n",
       "            src=\"test.html\"\n",
       "            frameborder=\"0\"\n",
       "            allowfullscreen\n",
       "            \n",
       "        ></iframe>\n",
       "        "
      ],
      "text/plain": [
       "<IPython.lib.display.IFrame at 0x7f057e2bc2e0>"
      ]
     },
     "execution_count": 313,
     "metadata": {},
     "output_type": "execute_result"
    }
   ],
   "source": [
    "graph1 = graph_merge.make_expanded_graph_copy(computation_graph.generate_static_graph(dual_arg, \"g1\"))\n",
    "graph2 = graph_merge.make_expanded_graph_copy(computation_graph.generate_static_graph(dual_arg, \"g2\"))\n",
    "\n",
    "arg1 = computation_graph.Artifact(10)\n",
    "arg1.name = 'arg1'\n",
    "arg2 = computation_graph.Artifact(20)\n",
    "arg2.name = 'arg2'\n",
    "inputs = graph_merge.get_inputs([\n",
    "    (graph1, dual_arg, 'arg2', arg1),   # Call graph1 with arg1=arg2 and arg2=arg1\n",
    "    (graph1, dual_arg, 'arg1', arg2),   \n",
    "    (graph2, dual_arg, 'arg1', arg1),   # Call graph2 with arg1=arg1 and arg2=arg2\n",
    "    (graph2, dual_arg, 'arg2', arg2)])\n",
    "\n",
    "merged_graph, merged_inputs, merged_outputs = graph_merge.merge_graphs([graph1, graph2], inputs, \"merged\")\n",
    "network_graph.Network_Graph(merged_graph, notebook=True).pyvis_graph.show('test.html')"
   ]
  },
  {
   "cell_type": "markdown",
   "metadata": {},
   "source": [
    "Merging is also impossible even if only one of the arguments doesn't match."
   ]
  },
  {
   "cell_type": "code",
   "execution_count": 314,
   "metadata": {},
   "outputs": [
    {
     "name": "stdout",
     "output_type": "stream",
     "text": [
      "Local cdn resources have problems on chrome/safari when used in jupyter-notebook. \n"
     ]
    },
    {
     "data": {
      "text/html": [
       "\n",
       "        <iframe\n",
       "            width=\"100%\"\n",
       "            height=\"600px\"\n",
       "            src=\"test.html\"\n",
       "            frameborder=\"0\"\n",
       "            allowfullscreen\n",
       "            \n",
       "        ></iframe>\n",
       "        "
      ],
      "text/plain": [
       "<IPython.lib.display.IFrame at 0x7f057e7778b0>"
      ]
     },
     "execution_count": 314,
     "metadata": {},
     "output_type": "execute_result"
    }
   ],
   "source": [
    "graph1 = graph_merge.make_expanded_graph_copy(computation_graph.generate_static_graph(dual_arg, \"g1\"))\n",
    "graph2 = graph_merge.make_expanded_graph_copy(computation_graph.generate_static_graph(dual_arg, \"g2\"))\n",
    "\n",
    "arg1_merged = computation_graph.Artifact(10)\n",
    "arg2_graph1 = computation_graph.Artifact(20)\n",
    "arg2_graph2 = computation_graph.Artifact(30)\n",
    "inputs = graph_merge.get_inputs([\n",
    "    (graph1, dual_arg, 'arg1', arg1_merged),\n",
    "    (graph1, dual_arg, 'arg2', arg2_graph1),\n",
    "    (graph2, dual_arg, 'arg1', arg1_merged),\n",
    "    (graph2, dual_arg, 'arg2', arg2_graph2)])\n",
    "\n",
    "merged_graph, merged_inputs, merged_outputs = graph_merge.merge_graphs([graph1, graph2], inputs, \"merged\")\n",
    "network_graph.Network_Graph(merged_graph, notebook=True).pyvis_graph.show('test.html')"
   ]
  },
  {
   "cell_type": "markdown",
   "metadata": {},
   "source": [
    "### Let's try a more complex graph"
   ]
  },
  {
   "cell_type": "code",
   "execution_count": 321,
   "metadata": {},
   "outputs": [
    {
     "name": "stdout",
     "output_type": "stream",
     "text": [
      "Local cdn resources have problems on chrome/safari when used in jupyter-notebook. \n"
     ]
    },
    {
     "data": {
      "text/html": [
       "\n",
       "        <iframe\n",
       "            width=\"100%\"\n",
       "            height=\"600px\"\n",
       "            src=\"test.html\"\n",
       "            frameborder=\"0\"\n",
       "            allowfullscreen\n",
       "            \n",
       "        ></iframe>\n",
       "        "
      ],
      "text/plain": [
       "<IPython.lib.display.IFrame at 0x7f057e12e190>"
      ]
     },
     "execution_count": 321,
     "metadata": {},
     "output_type": "execute_result"
    }
   ],
   "source": [
    "@computation_graph.optex_process(('transform_out_1', 'transform_out_2'))\n",
    "def dual_transform(arg1):\n",
    "    return arg1*2, arg1+5\n",
    "\n",
    "@computation_graph.optex_process('transform_out')\n",
    "def transform(arg):\n",
    "    return arg + 3\n",
    "\n",
    "@computation_graph.optex_process('final_output')\n",
    "def dual_input(arg1, arg2):\n",
    "    return arg1*10 + arg2\n",
    "\n",
    "\n",
    "@computation_graph.optex_composition(('output_1', 'output_2'))\n",
    "def dual_return(arg1, arg2):\n",
    "    arg1.name = 'arg1'\n",
    "    arg2.name = 'arg2'\n",
    "    out_1, out_2 = dual_transform(arg1)\n",
    "    out_1.name = 'transform_out_1'\n",
    "    out_2.name = 'transform_out_2'\n",
    "    out = transform(arg2)\n",
    "    out.name = 'transform_out'\n",
    "    final = dual_input(out_2, out)\n",
    "    final.name = 'final_out'\n",
    "    return out_1, final\n",
    "\n",
    "\n",
    "graph1 = graph_merge.make_expanded_graph_copy(computation_graph.generate_static_graph(dual_return, \"g1\"))\n",
    "graph2 = graph_merge.make_expanded_graph_copy(computation_graph.generate_static_graph(dual_return, \"g2\"))\n",
    "\n",
    "unmerged_graph = computation_graph.EdgeGraph.from_output_artifacts(graph1.outputs + graph2.outputs, name='unmerged_graph')\n",
    "network_graph.Network_Graph(unmerged_graph, notebook=True).pyvis_graph.show('test.html')"
   ]
  },
  {
   "cell_type": "markdown",
   "metadata": {},
   "source": [
    "### Let's try merging when all arguments match"
   ]
  },
  {
   "cell_type": "code",
   "execution_count": 320,
   "metadata": {},
   "outputs": [
    {
     "name": "stdout",
     "output_type": "stream",
     "text": [
      "Local cdn resources have problems on chrome/safari when used in jupyter-notebook. \n"
     ]
    },
    {
     "data": {
      "text/html": [
       "\n",
       "        <iframe\n",
       "            width=\"100%\"\n",
       "            height=\"600px\"\n",
       "            src=\"test.html\"\n",
       "            frameborder=\"0\"\n",
       "            allowfullscreen\n",
       "            \n",
       "        ></iframe>\n",
       "        "
      ],
      "text/plain": [
       "<IPython.lib.display.IFrame at 0x7f057e1727f0>"
      ]
     },
     "execution_count": 320,
     "metadata": {},
     "output_type": "execute_result"
    }
   ],
   "source": [
    "graph1 = graph_merge.make_expanded_graph_copy(computation_graph.generate_static_graph(dual_return, \"g1\"))\n",
    "graph2 = graph_merge.make_expanded_graph_copy(computation_graph.generate_static_graph(dual_return, \"g2\"))\n",
    "\n",
    "arg1 = computation_graph.Artifact(10)\n",
    "arg1.name = 'arg1'\n",
    "arg2 = computation_graph.Artifact(20)\n",
    "arg2.name = 'arg2'\n",
    "inputs = graph_merge.get_inputs([\n",
    "    (graph1, dual_transform, 'arg1', arg1),\n",
    "    (graph1, transform, 'arg', arg2),\n",
    "    (graph2, dual_transform, 'arg1', arg1),\n",
    "    (graph2, transform, 'arg', arg2)])\n",
    "\n",
    "merged_graph, merged_inputs, merged_outputs = graph_merge.merge_graphs([graph1, graph2], inputs, \"merged\")\n",
    "network_graph.Network_Graph(merged_graph, notebook=True).pyvis_graph.show('test.html')"
   ]
  },
  {
   "cell_type": "markdown",
   "metadata": {},
   "source": [
    "### If only some of the arguments match, only part of the graph is merged."
   ]
  },
  {
   "cell_type": "code",
   "execution_count": 301,
   "metadata": {},
   "outputs": [
    {
     "name": "stdout",
     "output_type": "stream",
     "text": [
      "Local cdn resources have problems on chrome/safari when used in jupyter-notebook. \n"
     ]
    },
    {
     "data": {
      "text/html": [
       "\n",
       "        <iframe\n",
       "            width=\"100%\"\n",
       "            height=\"600px\"\n",
       "            src=\"test.html\"\n",
       "            frameborder=\"0\"\n",
       "            allowfullscreen\n",
       "            \n",
       "        ></iframe>\n",
       "        "
      ],
      "text/plain": [
       "<IPython.lib.display.IFrame at 0x7f057e75e1f0>"
      ]
     },
     "execution_count": 301,
     "metadata": {},
     "output_type": "execute_result"
    }
   ],
   "source": [
    "graph1 = graph_merge.make_expanded_graph_copy(computation_graph.generate_static_graph(dual_return, \"g1\"))\n",
    "graph2 = graph_merge.make_expanded_graph_copy(computation_graph.generate_static_graph(dual_return, \"g2\"))\n",
    "\n",
    "\n",
    "arg1_merged = computation_graph.Artifact(10)\n",
    "arg1_merged.name = 'arg1_merged'\n",
    "arg2_graph1 = computation_graph.Artifact(20)\n",
    "arg2_graph1.name = 'arg2_graph1'\n",
    "arg2_graph2 = computation_graph.Artifact(30)\n",
    "arg2_graph2.name = 'arg2_graph2'\n",
    "\n",
    "inputs = graph_merge.get_inputs([\n",
    "    (graph1, dual_transform, 'arg1', arg1_merged),\n",
    "    (graph1, transform, 'arg', arg2_graph1),\n",
    "    (graph2, dual_transform, 'arg1', arg1_merged),\n",
    "    (graph2, transform, 'arg', arg2_graph2)])\n",
    "\n",
    "merged_graph, merged_inputs, merged_outputs = graph_merge.merge_graphs([graph1, graph2], inputs, \"merged\")\n",
    "network_graph.Network_Graph(merged_graph, notebook=True).pyvis_graph.show('test.html')"
   ]
  },
  {
   "cell_type": "markdown",
   "metadata": {},
   "source": [
    "### We can merge many graphs at a time"
   ]
  },
  {
   "cell_type": "code",
   "execution_count": 324,
   "metadata": {},
   "outputs": [
    {
     "name": "stdout",
     "output_type": "stream",
     "text": [
      "Local cdn resources have problems on chrome/safari when used in jupyter-notebook. \n"
     ]
    },
    {
     "data": {
      "text/html": [
       "\n",
       "        <iframe\n",
       "            width=\"100%\"\n",
       "            height=\"600px\"\n",
       "            src=\"test.html\"\n",
       "            frameborder=\"0\"\n",
       "            allowfullscreen\n",
       "            \n",
       "        ></iframe>\n",
       "        "
      ],
      "text/plain": [
       "<IPython.lib.display.IFrame at 0x7f057e454400>"
      ]
     },
     "execution_count": 324,
     "metadata": {},
     "output_type": "execute_result"
    }
   ],
   "source": [
    "graph1 = graph_merge.make_expanded_graph_copy(computation_graph.generate_static_graph(dual_return, \"g1\"))\n",
    "graph2 = graph_merge.make_expanded_graph_copy(computation_graph.generate_static_graph(dual_return, \"g2\"))\n",
    "graph3 = graph_merge.make_expanded_graph_copy(computation_graph.generate_static_graph(dual_return, \"g3\"))\n",
    "\n",
    "\n",
    "arg1_merged = computation_graph.Artifact(10)\n",
    "arg1_merged.name = 'arg1_merged'\n",
    "arg2_graph13 = computation_graph.Artifact(20)\n",
    "arg2_graph13.name = 'arg2_graph_1_3'\n",
    "arg2_graph2 = computation_graph.Artifact(30)\n",
    "arg2_graph2.name = 'arg2_graph_2'\n",
    "\n",
    "inputs = graph_merge.get_inputs([\n",
    "    (graph1, dual_transform, 'arg1', arg1_merged),\n",
    "    (graph1, transform, 'arg', arg2_graph13),\n",
    "    (graph2, dual_transform, 'arg1', arg1_merged),\n",
    "    (graph2, transform, 'arg', arg2_graph2),\n",
    "    (graph3, dual_transform, 'arg1', arg1_merged),\n",
    "    (graph3, transform, 'arg', arg2_graph13)])\n",
    "\n",
    "merged_graph, merged_inputs, merged_outputs = graph_merge.merge_graphs([graph1, graph2, graph3], inputs, \"merged\")\n",
    "network_graph.Network_Graph(merged_graph, notebook=True).pyvis_graph.show('test.html')"
   ]
  },
  {
   "cell_type": "markdown",
   "metadata": {},
   "source": [
    "### We can also execute a graph"
   ]
  },
  {
   "cell_type": "code",
   "execution_count": 306,
   "metadata": {},
   "outputs": [],
   "source": [
    "graph1 = graph_merge.make_expanded_graph_copy(computation_graph.generate_static_graph(dual_return, \"g1\"))\n",
    "graph2 = graph_merge.make_expanded_graph_copy(computation_graph.generate_static_graph(dual_return, \"g2\"))\n",
    "\n",
    "\n",
    "arg1_merged = computation_graph.Artifact(10)\n",
    "arg1_merged.name = 'arg1_merged'\n",
    "arg2_graph1 = computation_graph.Artifact(20)\n",
    "arg2_graph1.name = 'arg2_graph1'\n",
    "arg2_graph2 = computation_graph.Artifact(30)\n",
    "arg2_graph2.name = 'arg2_graph2'\n",
    "\n",
    "inputs = graph_merge.get_inputs([\n",
    "    (graph1, dual_transform, 'arg1', arg1_merged),\n",
    "    (graph1, transform, 'arg', arg2_graph1),\n",
    "    (graph2, dual_transform, 'arg1', arg1_merged),\n",
    "    (graph2, transform, 'arg', arg2_graph2)])\n",
    "\n",
    "\n",
    "merged_graph, merged_inputs, merged_outputs = graph_merge.merge_graphs([graph1, graph2], inputs, \"merged\")\n",
    "\n",
    "inputs = graph_merge.get_merged_inputs(\n",
    "    merged_inputs,\n",
    "    {\n",
    "        10: ('g1', dual_transform, 'arg1'),\n",
    "        20: ('g1', transform, 'arg'),\n",
    "        30: ('g2', transform, 'arg')\n",
    "    })\n",
    "\n",
    "outputs = graph_merge.execute_graph(merged_graph, inputs)"
   ]
  },
  {
   "cell_type": "code",
   "execution_count": 307,
   "metadata": {},
   "outputs": [
    {
     "name": "stdout",
     "output_type": "stream",
     "text": [
      "'final_out' in ['g2'] is 183\n",
      "'transform_out_1' in ['g1', 'g2'] is 20\n",
      "'final_out' in ['g1'] is 173\n"
     ]
    }
   ],
   "source": [
    "for output, value in outputs.items():\n",
    "    print(f\"'{output.name}' in {output.agents} is {value}\")"
   ]
  },
  {
   "cell_type": "markdown",
   "metadata": {},
   "source": [
    "# Create and merge the experiment graphs"
   ]
  },
  {
   "cell_type": "code",
   "execution_count": 344,
   "metadata": {},
   "outputs": [
    {
     "name": "stdout",
     "output_type": "stream",
     "text": [
      "Local cdn resources have problems on chrome/safari when used in jupyter-notebook. \n"
     ]
    },
    {
     "data": {
      "text/html": [
       "\n",
       "        <iframe\n",
       "            width=\"100%\"\n",
       "            height=\"600px\"\n",
       "            src=\"g1.html\"\n",
       "            frameborder=\"0\"\n",
       "            allowfullscreen\n",
       "            \n",
       "        ></iframe>\n",
       "        "
      ],
      "text/plain": [
       "<IPython.lib.display.IFrame at 0x7f052f922250>"
      ]
     },
     "execution_count": 344,
     "metadata": {},
     "output_type": "execute_result"
    }
   ],
   "source": [
    "graph1 = graph_merge.make_expanded_graph_copy(\n",
    "    computation_graph.Graph.from_process(\n",
    "        run_image_experiment.ImagePipeline1.run_batch, 'g1'))\n",
    "\n",
    "network_graph.Network_Graph(graph1, notebook=True).save_graph()"
   ]
  },
  {
   "cell_type": "code",
   "execution_count": 345,
   "metadata": {},
   "outputs": [
    {
     "name": "stdout",
     "output_type": "stream",
     "text": [
      "Local cdn resources have problems on chrome/safari when used in jupyter-notebook. \n"
     ]
    },
    {
     "data": {
      "text/html": [
       "\n",
       "        <iframe\n",
       "            width=\"100%\"\n",
       "            height=\"600px\"\n",
       "            src=\"g2.html\"\n",
       "            frameborder=\"0\"\n",
       "            allowfullscreen\n",
       "            \n",
       "        ></iframe>\n",
       "        "
      ],
      "text/plain": [
       "<IPython.lib.display.IFrame at 0x7f052f929730>"
      ]
     },
     "execution_count": 345,
     "metadata": {},
     "output_type": "execute_result"
    }
   ],
   "source": [
    "graph2 = graph_merge.make_expanded_graph_copy(\n",
    "    computation_graph.Graph.from_process(\n",
    "        run_image_experiment.ImagePipeline2.run_batch, 'g2'))\n",
    "\n",
    "network_graph.Network_Graph(graph2, notebook=True).save_graph()"
   ]
  },
  {
   "cell_type": "code",
   "execution_count": 346,
   "metadata": {},
   "outputs": [
    {
     "name": "stdout",
     "output_type": "stream",
     "text": [
      "Local cdn resources have problems on chrome/safari when used in jupyter-notebook. \n"
     ]
    },
    {
     "data": {
      "text/html": [
       "\n",
       "        <iframe\n",
       "            width=\"100%\"\n",
       "            height=\"600px\"\n",
       "            src=\"g3.html\"\n",
       "            frameborder=\"0\"\n",
       "            allowfullscreen\n",
       "            \n",
       "        ></iframe>\n",
       "        "
      ],
      "text/plain": [
       "<IPython.lib.display.IFrame at 0x7f052f929580>"
      ]
     },
     "execution_count": 346,
     "metadata": {},
     "output_type": "execute_result"
    }
   ],
   "source": [
    "graph3 = graph_merge.make_expanded_graph_copy(\n",
    "    computation_graph.Graph.from_process(\n",
    "        run_image_experiment.ImagePipeline3.run_batch, 'g3'))\n",
    "\n",
    "network_graph.Network_Graph(graph3, notebook=True).save_graph()"
   ]
  },
  {
   "cell_type": "markdown",
   "metadata": {},
   "source": [
    "### Merge the graphs"
   ]
  },
  {
   "cell_type": "code",
   "execution_count": 3,
   "metadata": {},
   "outputs": [
    {
     "name": "stdout",
     "output_type": "stream",
     "text": [
      "Local cdn resources have problems on chrome/safari when used in jupyter-notebook. \n"
     ]
    },
    {
     "data": {
      "text/html": [
       "\n",
       "        <iframe\n",
       "            width=\"100%\"\n",
       "            height=\"600px\"\n",
       "            src=\"merged.html\"\n",
       "            frameborder=\"0\"\n",
       "            allowfullscreen\n",
       "            \n",
       "        ></iframe>\n",
       "        "
      ],
      "text/plain": [
       "<IPython.lib.display.IFrame at 0x7f8a8ae6cbe0>"
      ]
     },
     "execution_count": 3,
     "metadata": {},
     "output_type": "execute_result"
    }
   ],
   "source": [
    "graph1 = graph_merge.make_expanded_graph_copy(\n",
    "    computation_graph.Graph.from_process(\n",
    "        run_image_experiment.ImagePipeline1.run_batch, 'g1'))\n",
    "\n",
    "graph2 = graph_merge.make_expanded_graph_copy(\n",
    "    computation_graph.Graph.from_process(\n",
    "        run_image_experiment.ImagePipeline2.run_batch, 'g2'))\n",
    "\n",
    "graph3 = graph_merge.make_expanded_graph_copy(\n",
    "    computation_graph.Graph.from_process(\n",
    "        run_image_experiment.ImagePipeline3.run_batch, 'g3'))\n",
    "\n",
    "batch_index_merged = computation_graph.Artifact(None)\n",
    "batch_size_merged = computation_graph.Artifact(None)\n",
    "spark_session_merged = computation_graph.Artifact(None)\n",
    "\n",
    "batch_index_merged.name = 'batch_index_merged'\n",
    "batch_size_merged.name = 'batch_size_merged'\n",
    "spark_session_merged.name = 'spark_session_merged'\n",
    "\n",
    "function = load_images.load_imagenet_data\n",
    "\n",
    "inputs = graph_merge.get_inputs([\n",
    "    (graph1, function, 'batch_index', batch_index_merged),\n",
    "    (graph1, function, 'batch_size', batch_size_merged),\n",
    "    (graph1, function, 'spark_session', spark_session_merged),\n",
    "    (graph2, function, 'batch_index', batch_index_merged),\n",
    "    (graph2, function, 'batch_size', batch_size_merged),\n",
    "    (graph2, function, 'spark_session', spark_session_merged),\n",
    "    (graph3, function, 'batch_index', batch_index_merged),\n",
    "    (graph3, function, 'batch_size', batch_size_merged),\n",
    "    (graph3, function, 'spark_session', spark_session_merged)])\n",
    "\n",
    "merged_graph, merged_inputs, merged_outputs = graph_merge.merge_graphs([graph1, graph2, graph3], inputs, \"merged\")\n",
    "network_graph.Network_Graph(merged_graph, notebook=True).save_graph()"
   ]
  },
  {
   "cell_type": "code",
   "execution_count": null,
   "metadata": {},
   "outputs": [],
   "source": []
  }
 ],
 "metadata": {
  "kernelspec": {
   "display_name": "Python 3 (ipykernel)",
   "language": "python",
   "name": "python3"
  },
  "language_info": {
   "codemirror_mode": {
    "name": "ipython",
    "version": 3
   },
   "file_extension": ".py",
   "mimetype": "text/x-python",
   "name": "python",
   "nbconvert_exporter": "python",
   "pygments_lexer": "ipython3",
   "version": "3.8.10"
  },
  "vscode": {
   "interpreter": {
    "hash": "b59d433bddf55be429ac041f32263f73335155102f2d4fb6e036d9b3897d0f28"
   }
  }
 },
 "nbformat": 4,
 "nbformat_minor": 2
}
