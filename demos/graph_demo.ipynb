{
 "cells": [
  {
   "cell_type": "code",
   "execution_count": 54,
   "id": "d669bbc4",
   "metadata": {},
   "outputs": [
    {
     "name": "stdout",
     "output_type": "stream",
     "text": [
      "The autoreload extension is already loaded. To reload it, use:\n",
      "  %reload_ext autoreload\n"
     ]
    }
   ],
   "source": [
    "import sys\n",
    "sys.path.append('..')\n",
    "from core import graph\n",
    "\n",
    "import pandas as pd\n",
    "\n",
    "%load_ext autoreload\n",
    "%autoreload 2"
   ]
  },
  {
   "cell_type": "markdown",
   "id": "798dc775",
   "metadata": {},
   "source": [
    "## Construct a simple pipeline"
   ]
  },
  {
   "cell_type": "code",
   "execution_count": 99,
   "id": "c79d0c21",
   "metadata": {},
   "outputs": [
    {
     "name": "stdout",
     "output_type": "stream",
     "text": [
      "SCOPE:  None\n"
     ]
    }
   ],
   "source": [
    "@graph.optex_process('start_dataset')\n",
    "def load_dataset(name):\n",
    "    return pd.DataFrame({'a': [1,2,3], 'b': [6,3,4]})\n",
    "\n",
    "\n",
    "@graph.optex_process('dataset_two')\n",
    "def transform_one(first_dataset):\n",
    "    return first_dataset + 10\n",
    "\n",
    "\n",
    "@graph.optex_process('dataset_three')\n",
    "def transform_two(second_dataset):\n",
    "    return second_dataset / 10\n",
    "\n",
    "\n",
    "@graph.optex_composition('final_dataset')\n",
    "def process_dataset(process_dataset):\n",
    "    d1 = transform_one(process_dataset)\n",
    "    d2 = transform_two(d1)\n",
    "    return d2\n",
    "\n",
    "d = process_dataset(load_dataset(graph.Artifact('ahhh')))"
   ]
  },
  {
   "cell_type": "code",
   "execution_count": 100,
   "id": "3279cb6e",
   "metadata": {},
   "outputs": [
    {
     "data": {
      "text/plain": [
       "{'name': <core.graph.Artifact at 0x7f08e2fbe550>}"
      ]
     },
     "execution_count": 100,
     "metadata": {},
     "output_type": "execute_result"
    }
   ],
   "source": [
    "d.parents['final_dataset'].parents['process_dataset'].parents['start_dataset'].parents"
   ]
  },
  {
   "cell_type": "code",
   "execution_count": 101,
   "id": "0c2e8f86",
   "metadata": {},
   "outputs": [
    {
     "data": {
      "text/plain": [
       "{'final_dataset': <core.graph.Process at 0x7f08e2fae0a0>}"
      ]
     },
     "execution_count": 101,
     "metadata": {},
     "output_type": "execute_result"
    }
   ],
   "source": [
    "d.parents['final_dataset'].child_processes[0].children['dataset_two'].children['second_dataset'].children['dataset_three'].parents"
   ]
  },
  {
   "cell_type": "markdown",
   "id": "d3398d55",
   "metadata": {},
   "source": [
    "## A more complicated pipeline"
   ]
  },
  {
   "cell_type": "code",
   "execution_count": 103,
   "id": "9b8430d6",
   "metadata": {},
   "outputs": [],
   "source": [
    "@graph.optex_process('transform_return')\n",
    "def transform(transform_arg):\n",
    "    return transform_arg + 10\n",
    "\n",
    "\n",
    "@graph.optex_composition('inner_return')\n",
    "def inner_compose(inner_arg):\n",
    "    return transform(inner_arg)\n",
    "\n",
    "\n",
    "@graph.optex_composition('outer_return')\n",
    "def outer_compose(outer_arg):\n",
    "    return inner_compose(outer_arg)\n",
    "\n",
    "d = outer_compose(graph.Artifact(20))"
   ]
  },
  {
   "cell_type": "code",
   "execution_count": 128,
   "id": "62ef6f5e",
   "metadata": {},
   "outputs": [
    {
     "data": {
      "text/plain": [
       "{'transform_return': <core.graph.Artifact at 0x7f08e2fa8700>}"
      ]
     },
     "execution_count": 128,
     "metadata": {},
     "output_type": "execute_result"
    }
   ],
   "source": [
    "d.parents['outer_return'].child_processes[0].child_processes[0].children"
   ]
  },
  {
   "cell_type": "code",
   "execution_count": null,
   "id": "8b84d8d5",
   "metadata": {},
   "outputs": [],
   "source": []
  }
 ],
 "metadata": {
  "kernelspec": {
   "display_name": "Python 3 (ipykernel)",
   "language": "python",
   "name": "python3"
  },
  "language_info": {
   "codemirror_mode": {
    "name": "ipython",
    "version": 3
   },
   "file_extension": ".py",
   "mimetype": "text/x-python",
   "name": "python",
   "nbconvert_exporter": "python",
   "pygments_lexer": "ipython3",
   "version": "3.8.5"
  }
 },
 "nbformat": 4,
 "nbformat_minor": 5
}
