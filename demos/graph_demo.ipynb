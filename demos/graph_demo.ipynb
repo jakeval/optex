{
 "cells": [
  {
   "cell_type": "code",
   "execution_count": 1,
   "id": "d669bbc4",
   "metadata": {},
   "outputs": [],
   "source": [
    "import sys\n",
    "sys.path.append('..')\n",
    "from core import computation_graph\n",
    "from core import graph_merge\n",
    "\n",
    "import pandas as pd\n",
    "\n",
    "%load_ext autoreload\n",
    "%autoreload 2"
   ]
  },
  {
   "cell_type": "markdown",
   "id": "798dc775",
   "metadata": {},
   "source": [
    "## Construct a simple pipeline"
   ]
  },
  {
   "cell_type": "code",
   "execution_count": 2,
   "id": "c79d0c21",
   "metadata": {},
   "outputs": [],
   "source": [
    "@computation_graph.optex_process('start_dataset')\n",
    "def load_dataset(name):\n",
    "    return pd.DataFrame({'a': [1,2,3], 'b': [6,3,4]})\n",
    "\n",
    "\n",
    "@computation_graph.optex_process('dataset_two')\n",
    "def transform_one(first_dataset):\n",
    "    return first_dataset + 10\n",
    "\n",
    "\n",
    "@computation_graph.optex_process('dataset_three')\n",
    "def transform_two(second_dataset):\n",
    "    return second_dataset / 10\n",
    "\n",
    "\n",
    "@computation_graph.optex_composition('final_dataset')\n",
    "def process_dataset(process_dataset):\n",
    "    d1 = transform_one(process_dataset)\n",
    "    d2 = transform_two(d1)\n",
    "    return d2\n",
    "\n",
    "d = process_dataset(load_dataset(computation_graph.Artifact('ahhh')))"
   ]
  },
  {
   "cell_type": "code",
   "execution_count": 3,
   "id": "3279cb6e",
   "metadata": {},
   "outputs": [
    {
     "data": {
      "text/plain": [
       "{'name': <core.computation_graph.Artifact at 0x7fe1d9816340>}"
      ]
     },
     "execution_count": 3,
     "metadata": {},
     "output_type": "execute_result"
    }
   ],
   "source": [
    "d.parents['final_dataset'].parents['process_dataset'].parents['start_dataset'].parents"
   ]
  },
  {
   "cell_type": "code",
   "execution_count": 4,
   "id": "0c2e8f86",
   "metadata": {},
   "outputs": [
    {
     "data": {
      "text/plain": [
       "{'final_dataset': <core.computation_graph.Process at 0x7fe18f30f1f0>}"
      ]
     },
     "execution_count": 4,
     "metadata": {},
     "output_type": "execute_result"
    }
   ],
   "source": [
    "d.parents['final_dataset'].child_processes[0].children['dataset_two'].children['second_dataset'].children['dataset_three'].parents"
   ]
  },
  {
   "cell_type": "markdown",
   "id": "d3398d55",
   "metadata": {},
   "source": [
    "## Nested compositions\n",
    "\n",
    "This pipeline contains two levels of composition -- node containing a subgraph where the subgraph contains another subgraph."
   ]
  },
  {
   "cell_type": "code",
   "execution_count": 5,
   "id": "9b8430d6",
   "metadata": {},
   "outputs": [],
   "source": [
    "@computation_graph.optex_process('transform_return')\n",
    "def transform(transform_arg):\n",
    "    return transform_arg + 10\n",
    "\n",
    "\n",
    "@computation_graph.optex_composition('inner_return')\n",
    "def inner_compose(inner_arg):\n",
    "    return transform(inner_arg)\n",
    "\n",
    "\n",
    "@computation_graph.optex_composition('outer_return')\n",
    "def outer_compose(outer_arg):\n",
    "    return inner_compose(outer_arg)\n",
    "\n",
    "d = outer_compose(computation_graph.Artifact(20))"
   ]
  },
  {
   "cell_type": "markdown",
   "id": "4ef424e6",
   "metadata": {},
   "source": [
    "## A more complicated graph\n",
    "\n",
    "This graph has multiple compositions, inputs, and outputs. It is useful for debugging and verifying the system works as expected."
   ]
  },
  {
   "cell_type": "code",
   "execution_count": 8,
   "id": "e30099bd",
   "metadata": {},
   "outputs": [],
   "source": [
    "@computation_graph.optex_process('transform_return')\n",
    "def transform(transform_arg):\n",
    "    return transform_arg + 10\n",
    "\n",
    "\n",
    "@computation_graph.optex_composition('inner_return')\n",
    "def inner_compose(inner_arg):\n",
    "    return transform(inner_arg)\n",
    "\n",
    "\n",
    "@computation_graph.optex_process('combined')\n",
    "def combine(combine_arg1, combine_arg2):\n",
    "    return combine_arg1 + combine_arg2\n",
    "\n",
    "\n",
    "@computation_graph.optex_composition(['arg2', 'combined'])\n",
    "def big_func(arg1, arg2):\n",
    "    arg1.name = \"input1\"\n",
    "    arg2.name = \"input2\"\n",
    "    after_inner = inner_compose(arg1)\n",
    "    after_inner.name = \"input1_transformed\"\n",
    "    after_transform_1 = transform(after_inner)\n",
    "    after_transform_1.name = \"input1_transformed_again\"\n",
    "    combined = combine(after_transform_1, arg2)\n",
    "    combined.name = \"combined\"\n",
    "    arg2_transformed = transform(arg2)\n",
    "    arg2_transformed.name = \"input2_transformed\"\n",
    "    return arg2_transformed, combined\n",
    "\n",
    "x, y = big_func(computation_graph.Artifact(1), computation_graph.Artifact(3))"
   ]
  },
  {
   "cell_type": "markdown",
   "id": "27700822",
   "metadata": {},
   "source": [
    "## Preprocessing a graph for merging\n",
    "\n",
    "Before merging a pipeline, we must:\n",
    "1. Generate a static Graph from the pipeline's main function\n",
    "2. Replace the Graph's composition nodes with the subgraphs they contain (so that there are no child processes)\n",
    "2. Write the Graph in edge-list format.\n",
    "\n",
    "These steps are performed below"
   ]
  },
  {
   "cell_type": "code",
   "execution_count": 28,
   "id": "aed3a58f",
   "metadata": {},
   "outputs": [
    {
     "name": "stdout",
     "output_type": "stream",
     "text": [
      "The (pretty-printed) edge list is:\n"
     ]
    },
    {
     "data": {
      "text/plain": [
       "[('input1', 'transform'),\n",
       " ('input2', 'combine'),\n",
       " ('input2', 'transform'),\n",
       " ('transform', 'input2_transformed'),\n",
       " ('transform', 'input1_transformed'),\n",
       " ('combine', 'combined'),\n",
       " ('input1_transformed', 'transform'),\n",
       " ('transform', 'input1_transformed_again'),\n",
       " ('input1_transformed_again', 'combine')]"
      ]
     },
     "execution_count": 28,
     "metadata": {},
     "output_type": "execute_result"
    }
   ],
   "source": [
    "g = computation_graph.Graph.from_process(big_func)  # generate a static graph\n",
    "mergeable_g = graph_merge.make_expanded_graph_copy(g)  # remove compositions and write in edge-list format\n",
    "print(\"The (pretty-printed) edge list is:\")\n",
    "[(parent.name, child.name) for role, parent, child in mergeable_g.edges]"
   ]
  },
  {
   "cell_type": "markdown",
   "id": "73f25812",
   "metadata": {},
   "source": [
    "## Executing a statically generated graph"
   ]
  },
  {
   "cell_type": "markdown",
   "id": "21d835e4",
   "metadata": {},
   "source": [
    "We can execute a statically generated graph by mapping its input Artifacts to concrete values and calling `graph_merge.execute_graph()`.\n",
    "\n",
    "It returns a mapping from outupt Artifacts to the values they take on."
   ]
  },
  {
   "cell_type": "code",
   "execution_count": 41,
   "id": "3550e675",
   "metadata": {},
   "outputs": [
    {
     "name": "stdout",
     "output_type": "stream",
     "text": [
      "transform_return: 52\n",
      "combined: 72\n"
     ]
    }
   ],
   "source": [
    "graph_inputs = {\n",
    "    mergeable_g.inputs[0]: 10,\n",
    "    mergeable_g.inputs[1]: 42\n",
    "}\n",
    "\n",
    "for artifact, value in graph_merge.execute_graph(mergeable_g, graph_inputs).items():\n",
    "    print(f\"{list(artifact.parents.keys())[0]}: {value}\")"
   ]
  },
  {
   "cell_type": "markdown",
   "id": "346a9739",
   "metadata": {},
   "source": [
    "We can verify that this is correct by executing the function dynamically. The values are the same, but the returned roles are not. Why, you ask? I do not know."
   ]
  },
  {
   "cell_type": "code",
   "execution_count": 45,
   "id": "cde6933a",
   "metadata": {},
   "outputs": [
    {
     "name": "stdout",
     "output_type": "stream",
     "text": [
      "arg2: 52\n",
      "combined: 72\n"
     ]
    }
   ],
   "source": [
    "for artifact in big_func(computation_graph.Artifact(10), computation_graph.Artifact(42)):\n",
    "    print(f\"{list(artifact.parents.keys())[0]}: {artifact._data}\")"
   ]
  },
  {
   "cell_type": "code",
   "execution_count": null,
   "id": "cbc1c9f0",
   "metadata": {},
   "outputs": [],
   "source": []
  }
 ],
 "metadata": {
  "kernelspec": {
   "display_name": "Python 3 (ipykernel)",
   "language": "python",
   "name": "python3"
  },
  "language_info": {
   "codemirror_mode": {
    "name": "ipython",
    "version": 3
   },
   "file_extension": ".py",
   "mimetype": "text/x-python",
   "name": "python",
   "nbconvert_exporter": "python",
   "pygments_lexer": "ipython3",
   "version": "3.8.5"
  }
 },
 "nbformat": 4,
 "nbformat_minor": 5
}
