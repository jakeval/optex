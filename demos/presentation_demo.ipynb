{
 "cells": [
  {
   "cell_type": "code",
   "execution_count": 1,
   "metadata": {
    "scrolled": true
   },
   "outputs": [
    {
     "name": "stderr",
     "output_type": "stream",
     "text": [
      "/home/jakeval/.local/pipx/venvs/notebook/lib/python3.8/site-packages/tqdm/auto.py:22: TqdmWarning: IProgress not found. Please update jupyter and ipywidgets. See https://ipywidgets.readthedocs.io/en/stable/user_install.html\n",
      "  from .autonotebook import tqdm as notebook_tqdm\n"
     ]
    }
   ],
   "source": [
    "import sys\n",
    "sys.path.append('..')\n",
    "from core import computation_graph\n",
    "from core import graph_merge\n",
    "from visualize_graph import network_graph\n",
    "from image_utilities import load_images\n",
    "\n",
    "import run_image_experiment\n",
    "\n",
    "%load_ext autoreload\n",
    "%autoreload 2"
   ]
  },
  {
   "cell_type": "markdown",
   "metadata": {},
   "source": [
    "# Overlapping Accounts"
   ]
  },
  {
   "cell_type": "code",
   "execution_count": 37,
   "metadata": {
    "scrolled": false,
    "tags": []
   },
   "outputs": [
    {
     "name": "stdout",
     "output_type": "stream",
     "text": [
      "Local cdn resources have problems on chrome/safari when used in jupyter-notebook. \n"
     ]
    },
    {
     "data": {
      "text/html": [
       "\n",
       "        <iframe\n",
       "            width=\"100%\"\n",
       "            height=\"600px\"\n",
       "            src=\"test.html\"\n",
       "            frameborder=\"0\"\n",
       "            allowfullscreen\n",
       "            \n",
       "        ></iframe>\n",
       "        "
      ],
      "text/plain": [
       "<IPython.lib.display.IFrame at 0x7f262844b2b0>"
      ]
     },
     "execution_count": 37,
     "metadata": {},
     "output_type": "execute_result"
    }
   ],
   "source": [
    "def _add_names_for_debugging(pair, x, y, incremented_x, incremented_y, incremented_pair):\n",
    "    pair.name = \"(2, 6)\"\n",
    "    x.name = \"2\"\n",
    "    y.name = \"6\"\n",
    "    incremented_x.name = \"3\"\n",
    "    incremented_y.name = \"7\"\n",
    "    incremented_pair.name = \"(3, 7)\"\n",
    "\n",
    "\n",
    "\n",
    "    \n",
    "    \n",
    "\n",
    "\n",
    "@computation_graph.optex_process(['pair_1', 'pair_2'])\n",
    "def split(pair):\n",
    "    return pair[0], pair[1]\n",
    "\n",
    "\n",
    "@computation_graph.optex_process('x_plus_1')\n",
    "def increment(x):\n",
    "    return x + 1\n",
    "\n",
    "\n",
    "@computation_graph.optex_process('pair')\n",
    "def join(pair_1, pair_2):\n",
    "    return (pair_1, pair_2)\n",
    "\n",
    "\n",
    "@computation_graph.optex_composition('pair + 1')\n",
    "def add1ToAll(pair):\n",
    "\n",
    "    x, y = split(pair)\n",
    "    \n",
    "    incremented_x = increment(x)\n",
    "    \n",
    "    incremented_y = increment(y)\n",
    "    \n",
    "    incremented_pair = join(incremented_x, incremented_y)\n",
    "    \n",
    "    _add_names_for_debugging(pair, x, y, incremented_x, incremented_y, incremented_pair)\n",
    "    \n",
    "    return incremented_pair\n",
    "\n",
    "\n",
    "\n",
    "\n",
    "\n",
    "simple_graph = computation_graph.EdgeGraph.from_process(add1ToAll, \"simple_graph\")\n",
    "network_graph.Network_Graph(simple_graph, show_agents=False, notebook=True).save_graph('test.html')"
   ]
  },
  {
   "cell_type": "code",
   "execution_count": 38,
   "metadata": {},
   "outputs": [
    {
     "name": "stdout",
     "output_type": "stream",
     "text": [
      "Local cdn resources have problems on chrome/safari when used in jupyter-notebook. \n"
     ]
    },
    {
     "data": {
      "text/html": [
       "\n",
       "        <iframe\n",
       "            width=\"100%\"\n",
       "            height=\"600px\"\n",
       "            src=\"test.html\"\n",
       "            frameborder=\"0\"\n",
       "            allowfullscreen\n",
       "            \n",
       "        ></iframe>\n",
       "        "
      ],
      "text/plain": [
       "<IPython.lib.display.IFrame at 0x7f268df2cf10>"
      ]
     },
     "execution_count": 38,
     "metadata": {},
     "output_type": "execute_result"
    }
   ],
   "source": [
    "expanded_copy = graph_merge.make_expanded_graph_copy(simple_graph)\n",
    "network_graph.Network_Graph(expanded_copy, show_agents=False, notebook=True).save_graph('test.html')"
   ]
  },
  {
   "cell_type": "markdown",
   "metadata": {},
   "source": [
    "# Full Graph Merging"
   ]
  },
  {
   "cell_type": "code",
   "execution_count": 44,
   "metadata": {},
   "outputs": [
    {
     "name": "stdout",
     "output_type": "stream",
     "text": [
      "Local cdn resources have problems on chrome/safari when used in jupyter-notebook. \n"
     ]
    },
    {
     "data": {
      "text/html": [
       "\n",
       "        <iframe\n",
       "            width=\"100%\"\n",
       "            height=\"600px\"\n",
       "            src=\"test.html\"\n",
       "            frameborder=\"0\"\n",
       "            allowfullscreen\n",
       "            \n",
       "        ></iframe>\n",
       "        "
      ],
      "text/plain": [
       "<IPython.lib.display.IFrame at 0x7f2623fcdc70>"
      ]
     },
     "execution_count": 44,
     "metadata": {},
     "output_type": "execute_result"
    }
   ],
   "source": [
    "def _add_names_for_debugging(arg1, arg2, out_1, out_2, out, final):\n",
    "    arg1.name = \"arg1\"\n",
    "    arg2.name = \"arg2\"\n",
    "    out_1.name = 'scale_out_1'\n",
    "    out_2.name = 'scale_out_2'\n",
    "    out.name = 'add_three_out'\n",
    "    final.name = 'sum_out'\n",
    "\n",
    "\n",
    "\n",
    "\n",
    "@computation_graph.optex_process(('scale_2_out', 'scale_4_out'))\n",
    "def scale(arg1):\n",
    "    return arg1*2, arg1*4\n",
    "\n",
    "@computation_graph.optex_process('add_three_out')\n",
    "def add_three(arg):\n",
    "    return arg + 3\n",
    "\n",
    "@computation_graph.optex_process('sum_output')\n",
    "def sum_inputs(arg1, arg2):\n",
    "    return arg1 + arg2\n",
    "\n",
    "\n",
    "@computation_graph.optex_composition(('output_1', 'output_2'))\n",
    "def dual_return(arg1, arg2):\n",
    "    out_1, out_2 = scale(arg1)\n",
    "    out = add_three(arg2)\n",
    "    final = sum_inputs(out_2, out)\n",
    "    \n",
    "    _add_names_for_debugging(arg1, arg2, out_1, out_2, out, final)\n",
    "    \n",
    "    return out_1, final\n",
    "\n",
    "\n",
    "graph1 = graph_merge.make_expanded_graph_copy(computation_graph.generate_static_graph(dual_return, \"Graph 1\"))\n",
    "graph2 = graph_merge.make_expanded_graph_copy(computation_graph.generate_static_graph(dual_return, \"Graph 2\"))\n",
    "\n",
    "unmerged_graph = computation_graph.EdgeGraph.from_output_artifacts(graph1.outputs + graph2.outputs, name='unmerged_graph')\n",
    "network_graph.Network_Graph(unmerged_graph, notebook=True).save_graph('test.html')"
   ]
  },
  {
   "cell_type": "code",
   "execution_count": 46,
   "metadata": {},
   "outputs": [
    {
     "name": "stdout",
     "output_type": "stream",
     "text": [
      "Local cdn resources have problems on chrome/safari when used in jupyter-notebook. \n"
     ]
    },
    {
     "data": {
      "text/html": [
       "\n",
       "        <iframe\n",
       "            width=\"100%\"\n",
       "            height=\"600px\"\n",
       "            src=\"test.html\"\n",
       "            frameborder=\"0\"\n",
       "            allowfullscreen\n",
       "            \n",
       "        ></iframe>\n",
       "        "
      ],
      "text/plain": [
       "<IPython.lib.display.IFrame at 0x7f2628114610>"
      ]
     },
     "execution_count": 46,
     "metadata": {},
     "output_type": "execute_result"
    }
   ],
   "source": [
    "graph1 = graph_merge.make_expanded_graph_copy(computation_graph.generate_static_graph(dual_return, \"Graph 1\"))\n",
    "graph2 = graph_merge.make_expanded_graph_copy(computation_graph.generate_static_graph(dual_return, \"Graph 2\"))\n",
    "\n",
    "arg1 = computation_graph.Artifact(10)\n",
    "arg1.name = 'arg1'\n",
    "arg2 = computation_graph.Artifact(20)\n",
    "arg2.name = 'arg2'\n",
    "inputs = graph_merge.get_inputs([\n",
    "    (graph1, scale, 'arg1', arg1),\n",
    "    (graph1, add_three, 'arg', arg2),\n",
    "    (graph2, scale, 'arg1', arg1),\n",
    "    (graph2, add_three, 'arg', arg2)])\n",
    "\n",
    "merged_graph, merged_inputs, merged_outputs = graph_merge.merge_graphs([graph1, graph2], inputs, \"merged\")\n",
    "network_graph.Network_Graph(merged_graph, notebook=True).save_graph('test.html')"
   ]
  },
  {
   "cell_type": "markdown",
   "metadata": {},
   "source": [
    "# Partial Graph Merging\n",
    "\n",
    "If only some of the arguments two each graph are identical, the graph can only be partially merged."
   ]
  },
  {
   "cell_type": "code",
   "execution_count": 47,
   "metadata": {},
   "outputs": [
    {
     "name": "stdout",
     "output_type": "stream",
     "text": [
      "Local cdn resources have problems on chrome/safari when used in jupyter-notebook. \n"
     ]
    },
    {
     "data": {
      "text/html": [
       "\n",
       "        <iframe\n",
       "            width=\"100%\"\n",
       "            height=\"600px\"\n",
       "            src=\"test.html\"\n",
       "            frameborder=\"0\"\n",
       "            allowfullscreen\n",
       "            \n",
       "        ></iframe>\n",
       "        "
      ],
      "text/plain": [
       "<IPython.lib.display.IFrame at 0x7f2628568a00>"
      ]
     },
     "execution_count": 47,
     "metadata": {},
     "output_type": "execute_result"
    }
   ],
   "source": [
    "graph1 = graph_merge.make_expanded_graph_copy(computation_graph.generate_static_graph(dual_return, \"Graph 1\"))\n",
    "graph2 = graph_merge.make_expanded_graph_copy(computation_graph.generate_static_graph(dual_return, \"Graph 2\"))\n",
    "\n",
    "\n",
    "arg1_merged = computation_graph.Artifact(10)\n",
    "arg1_merged.name = 'arg1_merged'\n",
    "arg2_graph1 = computation_graph.Artifact(20)\n",
    "arg2_graph1.name = 'arg2_graph1'\n",
    "arg2_graph2 = computation_graph.Artifact(30)\n",
    "arg2_graph2.name = 'arg2_graph2'\n",
    "\n",
    "inputs = graph_merge.get_inputs([\n",
    "    (graph1, scale, 'arg1', arg1_merged),\n",
    "    (graph1, add_three, 'arg', arg2_graph1),\n",
    "    (graph2, scale, 'arg1', arg1_merged),\n",
    "    (graph2, add_three, 'arg', arg2_graph2)])\n",
    "\n",
    "merged_graph, merged_inputs, merged_outputs = graph_merge.merge_graphs([graph1, graph2], inputs, \"merged\")\n",
    "network_graph.Network_Graph(merged_graph, notebook=True).pyvis_graph.show('test.html')"
   ]
  },
  {
   "cell_type": "code",
   "execution_count": null,
   "metadata": {},
   "outputs": [],
   "source": []
  },
  {
   "cell_type": "code",
   "execution_count": null,
   "metadata": {},
   "outputs": [],
   "source": []
  }
 ],
 "metadata": {
  "kernelspec": {
   "display_name": "Python 3 (ipykernel)",
   "language": "python",
   "name": "python3"
  },
  "language_info": {
   "codemirror_mode": {
    "name": "ipython",
    "version": 3
   },
   "file_extension": ".py",
   "mimetype": "text/x-python",
   "name": "python",
   "nbconvert_exporter": "python",
   "pygments_lexer": "ipython3",
   "version": "3.8.10"
  },
  "vscode": {
   "interpreter": {
    "hash": "b59d433bddf55be429ac041f32263f73335155102f2d4fb6e036d9b3897d0f28"
   }
  }
 },
 "nbformat": 4,
 "nbformat_minor": 4
}
