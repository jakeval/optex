{
 "cells": [
  {
   "cell_type": "code",
   "execution_count": 19,
   "metadata": {},
   "outputs": [
    {
     "name": "stdout",
     "output_type": "stream",
     "text": [
      "The autoreload extension is already loaded. To reload it, use:\n",
      "  %reload_ext autoreload\n"
     ]
    }
   ],
   "source": [
    "import sys\n",
    "sys.path.append('..')\n",
    "from core import computation_graph\n",
    "from core import graph_merge\n",
    "from visualize_graph import network_graph\n",
    "from image_utilities import load_images\n",
    "\n",
    "import run_image_experiment\n",
    "\n",
    "%load_ext autoreload\n",
    "%autoreload 2"
   ]
  },
  {
   "cell_type": "code",
   "execution_count": 21,
   "metadata": {
    "tags": []
   },
   "outputs": [],
   "source": [
    "@computation_graph.optex_process('return')\n",
    "def transform(x):\n",
    "    return x\n",
    "\n",
    "@computation_graph.optex_process('return')\n",
    "def combine(x, y, z):\n",
    "    return x + y + z\n",
    "\n",
    "@computation_graph.optex_composition('return')\n",
    "def pipeline1(x):\n",
    "    x.name = \"input\"\n",
    "    t1 = transform(x)\n",
    "    t1.name = \"transform_1\"\n",
    "    t2 = transform(x)\n",
    "    t2.name = \"transform_2\"\n",
    "    t3 = transform(x)\n",
    "    t3.name = \"transform_3\"\n",
    "    c = combine(t1, t2, t3)\n",
    "    c.name = 'output'\n",
    "    return c"
   ]
  },
  {
   "cell_type": "markdown",
   "metadata": {},
   "source": [
    "### Let's try a complex graph"
   ]
  },
  {
   "cell_type": "code",
   "execution_count": 34,
   "metadata": {},
   "outputs": [
    {
     "data": {
      "text/html": [
       "\n",
       "        <iframe\n",
       "            width=\"500px\"\n",
       "            height=\"500px\"\n",
       "            src=\"test.html\"\n",
       "            frameborder=\"0\"\n",
       "            allowfullscreen\n",
       "            \n",
       "        ></iframe>\n",
       "        "
      ],
      "text/plain": [
       "<IPython.lib.display.IFrame at 0x7fb5fe40e4f0>"
      ]
     },
     "execution_count": 34,
     "metadata": {},
     "output_type": "execute_result"
    }
   ],
   "source": [
    "@computation_graph.optex_process(('scale_2_out', 'scale_4_out'))\n",
    "def scale(arg1):\n",
    "    return arg1*2, arg1*4\n",
    "\n",
    "@computation_graph.optex_process('add_three_out')\n",
    "def add_three(arg):\n",
    "    return arg + 3\n",
    "\n",
    "@computation_graph.optex_process('sum_output')\n",
    "def sum_inputs(arg1, arg2):\n",
    "    return arg1 + arg2\n",
    "\n",
    "\n",
    "@computation_graph.optex_composition(('output_1', 'output_2'))\n",
    "def dual_return(arg1, arg2):\n",
    "    arg1.name = 'arg1'\n",
    "    arg2.name = 'arg2'\n",
    "    out_1, out_2 = scale(arg1)\n",
    "    out_1.name = 'scale_out_1'\n",
    "    out_2.name = 'scale_out_2'\n",
    "    out = add_three(arg2)\n",
    "    out.name = 'add_three_out'\n",
    "    final = sum_inputs(out_2, out)\n",
    "    final.name = 'sum_out'\n",
    "    return out_1, final\n",
    "\n",
    "\n",
    "graph1 = graph_merge.make_expanded_graph_copy(computation_graph.generate_static_graph(dual_return, \"Graph 1\"))\n",
    "graph2 = graph_merge.make_expanded_graph_copy(computation_graph.generate_static_graph(dual_return, \"Graph 2\"))\n",
    "\n",
    "unmerged_graph = computation_graph.EdgeGraph.from_output_artifacts(graph1.outputs + graph2.outputs, name='unmerged_graph')\n",
    "network_graph.Network_Graph(unmerged_graph, notebook=True).pyvis_graph.show('test.html')"
   ]
  },
  {
   "cell_type": "markdown",
   "metadata": {},
   "source": [
    "### Let's try merging when all arguments match"
   ]
  },
  {
   "cell_type": "code",
   "execution_count": 37,
   "metadata": {},
   "outputs": [
    {
     "data": {
      "text/html": [
       "\n",
       "        <iframe\n",
       "            width=\"500px\"\n",
       "            height=\"500px\"\n",
       "            src=\"test.html\"\n",
       "            frameborder=\"0\"\n",
       "            allowfullscreen\n",
       "            \n",
       "        ></iframe>\n",
       "        "
      ],
      "text/plain": [
       "<IPython.lib.display.IFrame at 0x7fb5fe44d400>"
      ]
     },
     "execution_count": 37,
     "metadata": {},
     "output_type": "execute_result"
    }
   ],
   "source": [
    "graph1 = graph_merge.make_expanded_graph_copy(computation_graph.generate_static_graph(dual_return, \"Graph 1\"))\n",
    "graph2 = graph_merge.make_expanded_graph_copy(computation_graph.generate_static_graph(dual_return, \"Graph 2\"))\n",
    "\n",
    "arg1 = computation_graph.Artifact(10)\n",
    "arg1.name = 'arg1'\n",
    "arg2 = computation_graph.Artifact(20)\n",
    "arg2.name = 'arg2'\n",
    "inputs = graph_merge.get_inputs([\n",
    "    (graph1, scale, 'arg1', arg1),\n",
    "    (graph1, add_three, 'arg', arg2),\n",
    "    (graph2, scale, 'arg1', arg1),\n",
    "    (graph2, add_three, 'arg', arg2)])\n",
    "\n",
    "merged_graph, merged_inputs, merged_outputs = graph_merge.merge_graphs([graph1, graph2], inputs, \"merged\")\n",
    "network_graph.Network_Graph(merged_graph, notebook=True).pyvis_graph.show('test.html')"
   ]
  },
  {
   "cell_type": "markdown",
   "metadata": {},
   "source": [
    "### If only some of the arguments match, only part of the graph is merged."
   ]
  },
  {
   "cell_type": "code",
   "execution_count": 36,
   "metadata": {},
   "outputs": [
    {
     "data": {
      "text/html": [
       "\n",
       "        <iframe\n",
       "            width=\"500px\"\n",
       "            height=\"500px\"\n",
       "            src=\"test.html\"\n",
       "            frameborder=\"0\"\n",
       "            allowfullscreen\n",
       "            \n",
       "        ></iframe>\n",
       "        "
      ],
      "text/plain": [
       "<IPython.lib.display.IFrame at 0x7fb5fe562a60>"
      ]
     },
     "execution_count": 36,
     "metadata": {},
     "output_type": "execute_result"
    }
   ],
   "source": [
    "graph1 = graph_merge.make_expanded_graph_copy(computation_graph.generate_static_graph(dual_return, \"Graph 1\"))\n",
    "graph2 = graph_merge.make_expanded_graph_copy(computation_graph.generate_static_graph(dual_return, \"Graph 2\"))\n",
    "\n",
    "\n",
    "arg1_merged = computation_graph.Artifact(10)\n",
    "arg1_merged.name = 'arg1_merged'\n",
    "arg2_graph1 = computation_graph.Artifact(20)\n",
    "arg2_graph1.name = 'arg2_graph1'\n",
    "arg2_graph2 = computation_graph.Artifact(30)\n",
    "arg2_graph2.name = 'arg2_graph2'\n",
    "\n",
    "inputs = graph_merge.get_inputs([\n",
    "    (graph1, scale, 'arg1', arg1_merged),\n",
    "    (graph1, add_three, 'arg', arg2_graph1),\n",
    "    (graph2, scale, 'arg1', arg1_merged),\n",
    "    (graph2, add_three, 'arg', arg2_graph2)])\n",
    "\n",
    "merged_graph, merged_inputs, merged_outputs = graph_merge.merge_graphs([graph1, graph2], inputs, \"merged\")\n",
    "network_graph.Network_Graph(merged_graph, notebook=True).pyvis_graph.show('test.html')"
   ]
  },
  {
   "cell_type": "code",
   "execution_count": null,
   "metadata": {},
   "outputs": [],
   "source": []
  },
  {
   "cell_type": "code",
   "execution_count": null,
   "metadata": {},
   "outputs": [],
   "source": []
  }
 ],
 "metadata": {
  "kernelspec": {
   "display_name": "Python 3 (ipykernel)",
   "language": "python",
   "name": "python3"
  },
  "language_info": {
   "codemirror_mode": {
    "name": "ipython",
    "version": 3
   },
   "file_extension": ".py",
   "mimetype": "text/x-python",
   "name": "python",
   "nbconvert_exporter": "python",
   "pygments_lexer": "ipython3",
   "version": "3.9.7"
  },
  "vscode": {
   "interpreter": {
    "hash": "b59d433bddf55be429ac041f32263f73335155102f2d4fb6e036d9b3897d0f28"
   }
  }
 },
 "nbformat": 4,
 "nbformat_minor": 4
}
