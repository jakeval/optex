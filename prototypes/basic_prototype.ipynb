{
 "cells": [
  {
   "cell_type": "markdown",
   "id": "a95b7a10",
   "metadata": {},
   "source": [
    "# First Prototype\n",
    "\n",
    "**Implemented Features:**\n",
    "* Nodes\n",
    "* Artifacts\n",
    "* Processes\n",
    "* Edges (used, wasGeneratedBy) between Processes and Artifacts\n",
    "* Edges (triggered) between Processes\n",
    "* decorator API for graph creation via @optex_process and @optex_composition\n",
    "* Implicit graph Accounts -- A Process node may contain some child_processes. These child_processes are Processes which are scoped within the original Node\n",
    "\n",
    "**Not Implemented:**\n",
    "* Agents\n",
    "* Graph registration or anything with merging\n",
    "* Roles\n",
    "* Annotations\n",
    "\n",
    "### TODO in this prototype:\n",
    "* Edges (derivedFrom) between Artifacts. This will be done via a context manager.\n",
    "* Better display of results. It's hard to read this code and understand how it corresponds to graph structure\n",
    "\n",
    "### Feedback Requested\n",
    "How is the graph structure? Is it easy to navigate programmatically? Probably not! What alternatives are there?"
   ]
  },
  {
   "cell_type": "code",
   "execution_count": 151,
   "id": "ab0818f8",
   "metadata": {},
   "outputs": [],
   "source": [
    "from __future__ import annotations\n",
    "from typing import Sequence, Mapping, Any, Callable, Tuple\n",
    "import dataclasses\n",
    "import enum\n",
    "import numpy as np\n",
    "import pandas as pd\n",
    "from functools import wraps\n",
    "\n",
    "        \n",
    "class Node():\n",
    "    def __init__(self):\n",
    "        self.parents = []\n",
    "        self.children = []\n",
    "        self.agents = []\n",
    "\n",
    "\n",
    "class Artifact(Node):\n",
    "    def __init__(self, data):\n",
    "        super().__init__()\n",
    "        self.data = data\n",
    "        self.entered_scope = None\n",
    "        self.name = 'default'\n",
    "        \n",
    "    def add_child(self, child):\n",
    "        if not self.entered_scope:\n",
    "            self.children.append(child)\n",
    "        else:\n",
    "            self.entered_scope.add_child_process(child)\n",
    "    \n",
    "    def add_parent(self, parent):\n",
    "        self.parents.append(parent)\n",
    "    \n",
    "    def enter_scope(self, process):\n",
    "        self.entered_scope = process\n",
    "    \n",
    "    def leave_scope(self, process):\n",
    "        self.entered_scope = None\n",
    "        self.parents[0].add_child_process(process)\n",
    "        self.parents[0].remove_child(self)\n",
    "        self.parents = []\n",
    "        \n",
    "    def __str__(self):\n",
    "        return self.name\n",
    "\n",
    "\n",
    "class Process(Node):\n",
    "    def __init__(self, transformation):\n",
    "        super().__init__()\n",
    "        self.transformation = transformation\n",
    "        self.child_processes = []\n",
    "\n",
    "    def add_child(self, child):\n",
    "        self.children.append(child)\n",
    "\n",
    "    def add_parent(self, parent):\n",
    "        if not parent.entered_scope:\n",
    "            self.parents.append(parent)\n",
    "            \n",
    "    def add_child_process(self, process):\n",
    "        self.child_processes.append(process)\n",
    "        \n",
    "    def remove_child(self, child):\n",
    "        self.children = list(filter(lambda c: c != child, self.children))\n",
    "        \n",
    "    def __str__(self):\n",
    "        return str(self.transformation)\n",
    "\n",
    "\n",
    "def optex_composition(transformation):\n",
    "    @wraps(transformation)\n",
    "    def wrapped_function(*artifact_args, **artifact_kwargs):\n",
    "        \n",
    "        process = Process(transformation)\n",
    "\n",
    "        for arg in artifact_args:\n",
    "            arg.add_child(process)\n",
    "            process.add_parent(arg)\n",
    "            arg.enter_scope(process)\n",
    "\n",
    "        for k, v in artifact_kwargs.items():\n",
    "            v.add_child(process)\n",
    "            process.add_parent(v)\n",
    "            v.enter_scope(process)\n",
    "\n",
    "        results = transformation(*artifact_args, **artifact_kwargs)\n",
    "\n",
    "        if isinstance(results, Tuple):\n",
    "            artifact_results = []\n",
    "            for artifact in results:\n",
    "                artifact.leave_scope(process)\n",
    "                artifact.add_parent(process)\n",
    "                artifact_results.append(artifact)\n",
    "                process.add_child(artifact)\n",
    "            return artifact_results\n",
    "        else:\n",
    "            results.leave_scope(process)\n",
    "            results.add_parent(process)\n",
    "            process.add_child(results)\n",
    "            return results\n",
    "    return wrapped_function\n",
    "\n",
    "\n",
    "def optex_process(transformation):\n",
    "    @wraps(transformation)\n",
    "    def wrapped_function(*artifact_args, **artifact_kwargs):\n",
    "        args = []\n",
    "        kwargs = {}\n",
    "        \n",
    "        process = Process(transformation)\n",
    "\n",
    "        for arg in artifact_args:\n",
    "            arg.add_child(process)\n",
    "            args.append(arg.data)\n",
    "            process.add_parent(arg)\n",
    "\n",
    "        for k, v in artifact_kwargs.items():\n",
    "            v.add_child(process)\n",
    "            kwargs[k] = v.data\n",
    "            process.add_parent(v)\n",
    "\n",
    "        results = transformation(*args, **kwargs)\n",
    "\n",
    "        if isinstance(results, Tuple):\n",
    "            artifact_results = []\n",
    "            for result in results:\n",
    "                artifact = Artifact(result)\n",
    "                artifact.add_parent(process)\n",
    "                artifact_results.append(artifact)\n",
    "                process.add_child(artifact)\n",
    "            return artifact_results\n",
    "        else:\n",
    "            artifact = Artifact(results)\n",
    "            artifact.add_parent(process)\n",
    "            process.add_child(artifact)\n",
    "            return artifact\n",
    "    return wrapped_function"
   ]
  },
  {
   "cell_type": "code",
   "execution_count": 159,
   "id": "dcdaf08f",
   "metadata": {},
   "outputs": [],
   "source": [
    "@optex_process\n",
    "def load_data(dataset_name):\n",
    "    if dataset_name == \"dataset_one\":\n",
    "        return pd.DataFrame({\n",
    "            'a': [1,2,3,4,5,2,4],\n",
    "            'b': [1,1,6,32,5,1,3],\n",
    "            'fk': [1,1,0,1,0,0,0]\n",
    "        })\n",
    "    elif dataset_name == \"dataset_two\":\n",
    "        return pd.DataFrame({\n",
    "            'fk': [1,0],\n",
    "            'x': [10,2],\n",
    "            'y': [0,4],\n",
    "            'z': [34,199]\n",
    "        })\n",
    "    else:\n",
    "        raise Exception(\"Dataset not recognized!\")\n",
    "\n",
    "\n",
    "@optex_process\n",
    "def join_datasets(df1, df2):\n",
    "    return pd.merge(df1, df2, on=\"fk\")\n",
    "\n",
    "\n",
    "@optex_process\n",
    "def standardize(df):\n",
    "    return (df - df.mean()) / df.std()\n",
    "\n",
    "\n",
    "class D1Pipeline:\n",
    "    def __init__(self):\n",
    "        pass\n",
    "    \n",
    "    @staticmethod\n",
    "    @optex_process\n",
    "    def transform(df):\n",
    "        df = df.copy()\n",
    "        df['a'] = df['a'] + 10\n",
    "        return df\n",
    "\n",
    "\n",
    "class D2Pipeline:\n",
    "    def __init__(self):\n",
    "        pass\n",
    "    \n",
    "    @staticmethod\n",
    "    @optex_process\n",
    "    def transform(df):\n",
    "        fk = df['fk'].copy()\n",
    "        # df = standardize(df.drop('fk', axis=1))\n",
    "        df = (df - df.mean()) / df.std()\n",
    "        df['fk'] = fk\n",
    "        return df\n",
    "\n",
    "\n",
    "class JoinedPipeline:\n",
    "    def __init__(self):\n",
    "        pass\n",
    "    \n",
    "    @staticmethod\n",
    "    @optex_process\n",
    "    def transform(df):\n",
    "        df = df.drop('fk', axis=1)\n",
    "        df['ax'] = df['a'] + df['x']\n",
    "        df['by'] = df['b'] + df['y']\n",
    "        return df.drop(columns=['a', 'b', 'x', 'y'])\n",
    "\n",
    "\n",
    "class Pipeline:\n",
    "    def __init__(self, d1_name, d2_name):\n",
    "        self.dataset1 = load_data(Artifact(d1_name))\n",
    "        self.dataset1.name = 'd1'\n",
    "        self.dataset2 = load_data(Artifact(d2_name))\n",
    "        self.dataset2.name = 'd2'\n",
    "    \n",
    "    def run_pipline(self):\n",
    "        return Pipeline.transform(self.dataset1, self.dataset2)\n",
    "\n",
    "    @staticmethod\n",
    "    @optex_composition\n",
    "    def transform(d1, d2):\n",
    "        d1 = D1Pipeline.transform(d1)\n",
    "        d1.name = 'd1p_out'\n",
    "        d2 = D2Pipeline.transform(d2)\n",
    "        d2.name = 'd2p_out'\n",
    "        df = join_datasets(d1, d2)\n",
    "        df.name = 'joined'\n",
    "        final = JoinedPipeline.transform(df)\n",
    "        final.name = 'final'\n",
    "        return final"
   ]
  },
  {
   "cell_type": "code",
   "execution_count": 160,
   "id": "d5bebe1f",
   "metadata": {},
   "outputs": [],
   "source": [
    "x = Pipeline(\"dataset_one\", \"dataset_two\").run_pipline()"
   ]
  },
  {
   "cell_type": "code",
   "execution_count": 161,
   "id": "057c9260",
   "metadata": {},
   "outputs": [
    {
     "data": {
      "text/plain": [
       "'final'"
      ]
     },
     "execution_count": 161,
     "metadata": {},
     "output_type": "execute_result"
    }
   ],
   "source": [
    "str(x)"
   ]
  },
  {
   "cell_type": "code",
   "execution_count": 162,
   "id": "4a3cc1de",
   "metadata": {},
   "outputs": [
    {
     "data": {
      "text/plain": [
       "'<function Pipeline.transform at 0x7f56aa633af0>'"
      ]
     },
     "execution_count": 162,
     "metadata": {},
     "output_type": "execute_result"
    }
   ],
   "source": [
    "str(x.parents[0])"
   ]
  },
  {
   "cell_type": "code",
   "execution_count": 163,
   "id": "dbd283a3",
   "metadata": {},
   "outputs": [
    {
     "data": {
      "text/plain": [
       "['d1', 'd2']"
      ]
     },
     "execution_count": 163,
     "metadata": {},
     "output_type": "execute_result"
    }
   ],
   "source": [
    "list(map(str, x.parents[0].parents))"
   ]
  },
  {
   "cell_type": "code",
   "execution_count": 169,
   "id": "7f0ae842",
   "metadata": {},
   "outputs": [
    {
     "data": {
      "text/plain": [
       "'[]'"
      ]
     },
     "execution_count": 169,
     "metadata": {},
     "output_type": "execute_result"
    }
   ],
   "source": [
    "str(x.parents[0].parents[0].parents[0].parents[0].parents)"
   ]
  },
  {
   "cell_type": "code",
   "execution_count": 194,
   "id": "14ce31f1",
   "metadata": {},
   "outputs": [
    {
     "data": {
      "text/plain": [
       "'d2p_out'"
      ]
     },
     "execution_count": 194,
     "metadata": {},
     "output_type": "execute_result"
    }
   ],
   "source": [
    "str(x.parents[0].child_processes[0].children[0].children[0].parents[1])"
   ]
  },
  {
   "cell_type": "code",
   "execution_count": null,
   "id": "39a24de3",
   "metadata": {},
   "outputs": [],
   "source": []
  }
 ],
 "metadata": {
  "kernelspec": {
   "display_name": "Python 3 (ipykernel)",
   "language": "python",
   "name": "python3"
  },
  "language_info": {
   "codemirror_mode": {
    "name": "ipython",
    "version": 3
   },
   "file_extension": ".py",
   "mimetype": "text/x-python",
   "name": "python",
   "nbconvert_exporter": "python",
   "pygments_lexer": "ipython3",
   "version": "3.8.5"
  }
 },
 "nbformat": 4,
 "nbformat_minor": 5
}
